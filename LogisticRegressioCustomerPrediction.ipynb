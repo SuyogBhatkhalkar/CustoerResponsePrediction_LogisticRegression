{
  "nbformat": 4,
  "nbformat_minor": 0,
  "metadata": {
    "colab": {
      "name": "LogisticRegressioCustomerPrediction.ipynb",
      "provenance": [],
      "collapsed_sections": [],
      "authorship_tag": "ABX9TyPNyzORfqsKYPQx6/rBl95d",
      "include_colab_link": true
    },
    "kernelspec": {
      "name": "python3",
      "display_name": "Python 3"
    },
    "language_info": {
      "name": "python"
    }
  },
  "cells": [
    {
      "cell_type": "markdown",
      "metadata": {
        "id": "view-in-github",
        "colab_type": "text"
      },
      "source": [
        "<a href=\"https://colab.research.google.com/github/SuyogBhatkhalkar/CustoerResponsePrediction_LogisticRegression/blob/main/LogisticRegressioCustomerPrediction.ipynb\" target=\"_parent\"><img src=\"https://colab.research.google.com/assets/colab-badge.svg\" alt=\"Open In Colab\"/></a>"
      ]
    },
    {
      "cell_type": "code",
      "execution_count": 9,
      "metadata": {
        "colab": {
          "base_uri": "https://localhost:8080/"
        },
        "id": "EtHQwUEGr9Np",
        "outputId": "9400267e-e6fa-4361-80eb-cd16563e753d"
      },
      "outputs": [
        {
          "output_type": "stream",
          "name": "stdout",
          "text": [
            "Drive already mounted at /content/drive/; to attempt to forcibly remount, call drive.mount(\"/content/drive/\", force_remount=True).\n"
          ]
        },
        {
          "output_type": "execute_result",
          "data": {
            "text/plain": [
              "['.config', 'drive', 'sample_data']"
            ]
          },
          "metadata": {},
          "execution_count": 9
        }
      ],
      "source": [
        "from google.colab import drive\n",
        "gdrive = drive.mount('/content/drive/')\n",
        "import os\n",
        "os.listdir()"
      ]
    },
    {
      "cell_type": "code",
      "source": [
        "#Import required libs here\n",
        "import numpy as np\n",
        "import pandas as pd\n",
        "from sklearn.model_selection import KFold\n",
        "from sklearn.linear_model import LogisticRegression\n",
        "from sklearn.preprocessing import LabelEncoder\n",
        "from sklearn.preprocessing import OneHotEncoder\n",
        "from imblearn.over_sampling import SMOTE \n",
        "from sklearn.preprocessing import MinMaxScaler\n",
        "from sklearn.model_selection import GridSearchCV, StratifiedKFold\n",
        "from sklearn.metrics import roc_auc_score, auc, roc_curve, confusion_matrix, classification_report\n",
        "import pickle"
      ],
      "metadata": {
        "id": "hBRALFDPstwf"
      },
      "execution_count": 10,
      "outputs": []
    },
    {
      "cell_type": "code",
      "source": [
        "#Read the input dataset features\n",
        "dataset = pd.read_csv(\"drive/MyDrive/DataScienseStudyNotes/features2.csv\")"
      ],
      "metadata": {
        "id": "x-M_iU1nsvDs"
      },
      "execution_count": 11,
      "outputs": []
    },
    {
      "cell_type": "code",
      "source": [
        "# Drop first column ID \n",
        "input_features = dataset.drop(['ID'],axis=1)\n",
        "#split data into X_train, Y_train \n",
        "kf = KFold(n_splits = 5, shuffle = True, random_state = 2)\n",
        "# enumerate splits\n",
        "features = next(kf.split(input_features))\n",
        "print (features)\n",
        "#(array([0, 2, 3, 5, 6, 7, 8, 9]), array([1, 4]))\n",
        "\n",
        "train = input_features.iloc[features[0]]\n",
        "test =  input_features.iloc[features[1]]\n",
        "train.head(10)"
      ],
      "metadata": {
        "colab": {
          "base_uri": "https://localhost:8080/",
          "height": 474
        },
        "id": "_MH2CmQqtGDI",
        "outputId": "6e3d3c3c-f6f4-49c5-a4a9-149de8c1c7c1"
      },
      "execution_count": 12,
      "outputs": [
        {
          "output_type": "stream",
          "name": "stdout",
          "text": [
            "(array([    0,     1,     3, ..., 24301, 24302, 24304]), array([    2,     8,    11, ..., 24285, 24295, 24303]))\n"
          ]
        },
        {
          "output_type": "execute_result",
          "data": {
            "text/plain": [
              "         age  duration  campaign  pdays  default_yes  housing_yes  loan_yes  \\\n",
              "0   0.270270  0.041074  0.023810    1.0            0            0         0   \n",
              "1   0.824324  0.233428  0.000000    1.0            0            0         0   \n",
              "3   0.567568  0.074827  0.023810    1.0            0            0         0   \n",
              "4   0.162162  0.052054  0.023810    1.0            0            0         0   \n",
              "5   0.121622  0.091297  0.000000    1.0            0            0         0   \n",
              "6   0.175676  0.025620  0.023810    1.0            0            1         0   \n",
              "7   0.216216  0.101261  0.095238    1.0            0            1         0   \n",
              "9   0.202703  0.018910  0.095238    1.0            0            1         0   \n",
              "10  0.121622  0.014437  0.000000    1.0            0            1         0   \n",
              "12  0.527027  0.075030  0.000000    1.0            0            0         0   \n",
              "\n",
              "    month_apr  month_aug  month_dec  ...  job_new_technician  \\\n",
              "0           0          0          0  ...                   0   \n",
              "1           0          0          0  ...                   0   \n",
              "3           0          0          0  ...                   0   \n",
              "4           0          1          0  ...                   0   \n",
              "5           0          1          0  ...                   0   \n",
              "6           0          0          0  ...                   0   \n",
              "7           0          0          0  ...                   0   \n",
              "9           0          0          0  ...                   1   \n",
              "10          0          0          0  ...                   0   \n",
              "12          0          0          0  ...                   0   \n",
              "\n",
              "    job_new_unemployed  education_new_basic.9y  education_new_high.school  \\\n",
              "0                    0                       0                          0   \n",
              "1                    0                       1                          0   \n",
              "3                    0                       0                          0   \n",
              "4                    0                       0                          0   \n",
              "5                    1                       1                          0   \n",
              "6                    0                       1                          0   \n",
              "7                    0                       0                          1   \n",
              "9                    0                       0                          0   \n",
              "10                   0                       0                          0   \n",
              "12                   0                       1                          0   \n",
              "\n",
              "    education_new_professional.course  education_new_university.degree  \\\n",
              "0                                   0                                1   \n",
              "1                                   0                                0   \n",
              "3                                   0                                1   \n",
              "4                                   0                                1   \n",
              "5                                   0                                0   \n",
              "6                                   0                                0   \n",
              "7                                   0                                0   \n",
              "9                                   0                                1   \n",
              "10                                  1                                0   \n",
              "12                                  0                                0   \n",
              "\n",
              "    poutcome_failure  poutcome_nonexistent  poutcome_success  y_yes  \n",
              "0                  1                     0                 0      0  \n",
              "1                  0                     1                 0      1  \n",
              "3                  0                     1                 0      0  \n",
              "4                  0                     1                 0      0  \n",
              "5                  0                     1                 0      1  \n",
              "6                  0                     1                 0      0  \n",
              "7                  0                     1                 0      0  \n",
              "9                  0                     1                 0      0  \n",
              "10                 0                     1                 0      0  \n",
              "12                 0                     1                 0      0  \n",
              "\n",
              "[10 rows x 38 columns]"
            ],
            "text/html": [
              "\n",
              "  <div id=\"df-4847db6d-721c-4858-9e10-d69bb02733bd\">\n",
              "    <div class=\"colab-df-container\">\n",
              "      <div>\n",
              "<style scoped>\n",
              "    .dataframe tbody tr th:only-of-type {\n",
              "        vertical-align: middle;\n",
              "    }\n",
              "\n",
              "    .dataframe tbody tr th {\n",
              "        vertical-align: top;\n",
              "    }\n",
              "\n",
              "    .dataframe thead th {\n",
              "        text-align: right;\n",
              "    }\n",
              "</style>\n",
              "<table border=\"1\" class=\"dataframe\">\n",
              "  <thead>\n",
              "    <tr style=\"text-align: right;\">\n",
              "      <th></th>\n",
              "      <th>age</th>\n",
              "      <th>duration</th>\n",
              "      <th>campaign</th>\n",
              "      <th>pdays</th>\n",
              "      <th>default_yes</th>\n",
              "      <th>housing_yes</th>\n",
              "      <th>loan_yes</th>\n",
              "      <th>month_apr</th>\n",
              "      <th>month_aug</th>\n",
              "      <th>month_dec</th>\n",
              "      <th>...</th>\n",
              "      <th>job_new_technician</th>\n",
              "      <th>job_new_unemployed</th>\n",
              "      <th>education_new_basic.9y</th>\n",
              "      <th>education_new_high.school</th>\n",
              "      <th>education_new_professional.course</th>\n",
              "      <th>education_new_university.degree</th>\n",
              "      <th>poutcome_failure</th>\n",
              "      <th>poutcome_nonexistent</th>\n",
              "      <th>poutcome_success</th>\n",
              "      <th>y_yes</th>\n",
              "    </tr>\n",
              "  </thead>\n",
              "  <tbody>\n",
              "    <tr>\n",
              "      <th>0</th>\n",
              "      <td>0.270270</td>\n",
              "      <td>0.041074</td>\n",
              "      <td>0.023810</td>\n",
              "      <td>1.0</td>\n",
              "      <td>0</td>\n",
              "      <td>0</td>\n",
              "      <td>0</td>\n",
              "      <td>0</td>\n",
              "      <td>0</td>\n",
              "      <td>0</td>\n",
              "      <td>...</td>\n",
              "      <td>0</td>\n",
              "      <td>0</td>\n",
              "      <td>0</td>\n",
              "      <td>0</td>\n",
              "      <td>0</td>\n",
              "      <td>1</td>\n",
              "      <td>1</td>\n",
              "      <td>0</td>\n",
              "      <td>0</td>\n",
              "      <td>0</td>\n",
              "    </tr>\n",
              "    <tr>\n",
              "      <th>1</th>\n",
              "      <td>0.824324</td>\n",
              "      <td>0.233428</td>\n",
              "      <td>0.000000</td>\n",
              "      <td>1.0</td>\n",
              "      <td>0</td>\n",
              "      <td>0</td>\n",
              "      <td>0</td>\n",
              "      <td>0</td>\n",
              "      <td>0</td>\n",
              "      <td>0</td>\n",
              "      <td>...</td>\n",
              "      <td>0</td>\n",
              "      <td>0</td>\n",
              "      <td>1</td>\n",
              "      <td>0</td>\n",
              "      <td>0</td>\n",
              "      <td>0</td>\n",
              "      <td>0</td>\n",
              "      <td>1</td>\n",
              "      <td>0</td>\n",
              "      <td>1</td>\n",
              "    </tr>\n",
              "    <tr>\n",
              "      <th>3</th>\n",
              "      <td>0.567568</td>\n",
              "      <td>0.074827</td>\n",
              "      <td>0.023810</td>\n",
              "      <td>1.0</td>\n",
              "      <td>0</td>\n",
              "      <td>0</td>\n",
              "      <td>0</td>\n",
              "      <td>0</td>\n",
              "      <td>0</td>\n",
              "      <td>0</td>\n",
              "      <td>...</td>\n",
              "      <td>0</td>\n",
              "      <td>0</td>\n",
              "      <td>0</td>\n",
              "      <td>0</td>\n",
              "      <td>0</td>\n",
              "      <td>1</td>\n",
              "      <td>0</td>\n",
              "      <td>1</td>\n",
              "      <td>0</td>\n",
              "      <td>0</td>\n",
              "    </tr>\n",
              "    <tr>\n",
              "      <th>4</th>\n",
              "      <td>0.162162</td>\n",
              "      <td>0.052054</td>\n",
              "      <td>0.023810</td>\n",
              "      <td>1.0</td>\n",
              "      <td>0</td>\n",
              "      <td>0</td>\n",
              "      <td>0</td>\n",
              "      <td>0</td>\n",
              "      <td>1</td>\n",
              "      <td>0</td>\n",
              "      <td>...</td>\n",
              "      <td>0</td>\n",
              "      <td>0</td>\n",
              "      <td>0</td>\n",
              "      <td>0</td>\n",
              "      <td>0</td>\n",
              "      <td>1</td>\n",
              "      <td>0</td>\n",
              "      <td>1</td>\n",
              "      <td>0</td>\n",
              "      <td>0</td>\n",
              "    </tr>\n",
              "    <tr>\n",
              "      <th>5</th>\n",
              "      <td>0.121622</td>\n",
              "      <td>0.091297</td>\n",
              "      <td>0.000000</td>\n",
              "      <td>1.0</td>\n",
              "      <td>0</td>\n",
              "      <td>0</td>\n",
              "      <td>0</td>\n",
              "      <td>0</td>\n",
              "      <td>1</td>\n",
              "      <td>0</td>\n",
              "      <td>...</td>\n",
              "      <td>0</td>\n",
              "      <td>1</td>\n",
              "      <td>1</td>\n",
              "      <td>0</td>\n",
              "      <td>0</td>\n",
              "      <td>0</td>\n",
              "      <td>0</td>\n",
              "      <td>1</td>\n",
              "      <td>0</td>\n",
              "      <td>1</td>\n",
              "    </tr>\n",
              "    <tr>\n",
              "      <th>6</th>\n",
              "      <td>0.175676</td>\n",
              "      <td>0.025620</td>\n",
              "      <td>0.023810</td>\n",
              "      <td>1.0</td>\n",
              "      <td>0</td>\n",
              "      <td>1</td>\n",
              "      <td>0</td>\n",
              "      <td>0</td>\n",
              "      <td>0</td>\n",
              "      <td>0</td>\n",
              "      <td>...</td>\n",
              "      <td>0</td>\n",
              "      <td>0</td>\n",
              "      <td>1</td>\n",
              "      <td>0</td>\n",
              "      <td>0</td>\n",
              "      <td>0</td>\n",
              "      <td>0</td>\n",
              "      <td>1</td>\n",
              "      <td>0</td>\n",
              "      <td>0</td>\n",
              "    </tr>\n",
              "    <tr>\n",
              "      <th>7</th>\n",
              "      <td>0.216216</td>\n",
              "      <td>0.101261</td>\n",
              "      <td>0.095238</td>\n",
              "      <td>1.0</td>\n",
              "      <td>0</td>\n",
              "      <td>1</td>\n",
              "      <td>0</td>\n",
              "      <td>0</td>\n",
              "      <td>0</td>\n",
              "      <td>0</td>\n",
              "      <td>...</td>\n",
              "      <td>0</td>\n",
              "      <td>0</td>\n",
              "      <td>0</td>\n",
              "      <td>1</td>\n",
              "      <td>0</td>\n",
              "      <td>0</td>\n",
              "      <td>0</td>\n",
              "      <td>1</td>\n",
              "      <td>0</td>\n",
              "      <td>0</td>\n",
              "    </tr>\n",
              "    <tr>\n",
              "      <th>9</th>\n",
              "      <td>0.202703</td>\n",
              "      <td>0.018910</td>\n",
              "      <td>0.095238</td>\n",
              "      <td>1.0</td>\n",
              "      <td>0</td>\n",
              "      <td>1</td>\n",
              "      <td>0</td>\n",
              "      <td>0</td>\n",
              "      <td>0</td>\n",
              "      <td>0</td>\n",
              "      <td>...</td>\n",
              "      <td>1</td>\n",
              "      <td>0</td>\n",
              "      <td>0</td>\n",
              "      <td>0</td>\n",
              "      <td>0</td>\n",
              "      <td>1</td>\n",
              "      <td>0</td>\n",
              "      <td>1</td>\n",
              "      <td>0</td>\n",
              "      <td>0</td>\n",
              "    </tr>\n",
              "    <tr>\n",
              "      <th>10</th>\n",
              "      <td>0.121622</td>\n",
              "      <td>0.014437</td>\n",
              "      <td>0.000000</td>\n",
              "      <td>1.0</td>\n",
              "      <td>0</td>\n",
              "      <td>1</td>\n",
              "      <td>0</td>\n",
              "      <td>0</td>\n",
              "      <td>0</td>\n",
              "      <td>0</td>\n",
              "      <td>...</td>\n",
              "      <td>0</td>\n",
              "      <td>0</td>\n",
              "      <td>0</td>\n",
              "      <td>0</td>\n",
              "      <td>1</td>\n",
              "      <td>0</td>\n",
              "      <td>0</td>\n",
              "      <td>1</td>\n",
              "      <td>0</td>\n",
              "      <td>0</td>\n",
              "    </tr>\n",
              "    <tr>\n",
              "      <th>12</th>\n",
              "      <td>0.527027</td>\n",
              "      <td>0.075030</td>\n",
              "      <td>0.000000</td>\n",
              "      <td>1.0</td>\n",
              "      <td>0</td>\n",
              "      <td>0</td>\n",
              "      <td>0</td>\n",
              "      <td>0</td>\n",
              "      <td>0</td>\n",
              "      <td>0</td>\n",
              "      <td>...</td>\n",
              "      <td>0</td>\n",
              "      <td>0</td>\n",
              "      <td>1</td>\n",
              "      <td>0</td>\n",
              "      <td>0</td>\n",
              "      <td>0</td>\n",
              "      <td>0</td>\n",
              "      <td>1</td>\n",
              "      <td>0</td>\n",
              "      <td>0</td>\n",
              "    </tr>\n",
              "  </tbody>\n",
              "</table>\n",
              "<p>10 rows × 38 columns</p>\n",
              "</div>\n",
              "      <button class=\"colab-df-convert\" onclick=\"convertToInteractive('df-4847db6d-721c-4858-9e10-d69bb02733bd')\"\n",
              "              title=\"Convert this dataframe to an interactive table.\"\n",
              "              style=\"display:none;\">\n",
              "        \n",
              "  <svg xmlns=\"http://www.w3.org/2000/svg\" height=\"24px\"viewBox=\"0 0 24 24\"\n",
              "       width=\"24px\">\n",
              "    <path d=\"M0 0h24v24H0V0z\" fill=\"none\"/>\n",
              "    <path d=\"M18.56 5.44l.94 2.06.94-2.06 2.06-.94-2.06-.94-.94-2.06-.94 2.06-2.06.94zm-11 1L8.5 8.5l.94-2.06 2.06-.94-2.06-.94L8.5 2.5l-.94 2.06-2.06.94zm10 10l.94 2.06.94-2.06 2.06-.94-2.06-.94-.94-2.06-.94 2.06-2.06.94z\"/><path d=\"M17.41 7.96l-1.37-1.37c-.4-.4-.92-.59-1.43-.59-.52 0-1.04.2-1.43.59L10.3 9.45l-7.72 7.72c-.78.78-.78 2.05 0 2.83L4 21.41c.39.39.9.59 1.41.59.51 0 1.02-.2 1.41-.59l7.78-7.78 2.81-2.81c.8-.78.8-2.07 0-2.86zM5.41 20L4 18.59l7.72-7.72 1.47 1.35L5.41 20z\"/>\n",
              "  </svg>\n",
              "      </button>\n",
              "      \n",
              "  <style>\n",
              "    .colab-df-container {\n",
              "      display:flex;\n",
              "      flex-wrap:wrap;\n",
              "      gap: 12px;\n",
              "    }\n",
              "\n",
              "    .colab-df-convert {\n",
              "      background-color: #E8F0FE;\n",
              "      border: none;\n",
              "      border-radius: 50%;\n",
              "      cursor: pointer;\n",
              "      display: none;\n",
              "      fill: #1967D2;\n",
              "      height: 32px;\n",
              "      padding: 0 0 0 0;\n",
              "      width: 32px;\n",
              "    }\n",
              "\n",
              "    .colab-df-convert:hover {\n",
              "      background-color: #E2EBFA;\n",
              "      box-shadow: 0px 1px 2px rgba(60, 64, 67, 0.3), 0px 1px 3px 1px rgba(60, 64, 67, 0.15);\n",
              "      fill: #174EA6;\n",
              "    }\n",
              "\n",
              "    [theme=dark] .colab-df-convert {\n",
              "      background-color: #3B4455;\n",
              "      fill: #D2E3FC;\n",
              "    }\n",
              "\n",
              "    [theme=dark] .colab-df-convert:hover {\n",
              "      background-color: #434B5C;\n",
              "      box-shadow: 0px 1px 3px 1px rgba(0, 0, 0, 0.15);\n",
              "      filter: drop-shadow(0px 1px 2px rgba(0, 0, 0, 0.3));\n",
              "      fill: #FFFFFF;\n",
              "    }\n",
              "  </style>\n",
              "\n",
              "      <script>\n",
              "        const buttonEl =\n",
              "          document.querySelector('#df-4847db6d-721c-4858-9e10-d69bb02733bd button.colab-df-convert');\n",
              "        buttonEl.style.display =\n",
              "          google.colab.kernel.accessAllowed ? 'block' : 'none';\n",
              "\n",
              "        async function convertToInteractive(key) {\n",
              "          const element = document.querySelector('#df-4847db6d-721c-4858-9e10-d69bb02733bd');\n",
              "          const dataTable =\n",
              "            await google.colab.kernel.invokeFunction('convertToInteractive',\n",
              "                                                     [key], {});\n",
              "          if (!dataTable) return;\n",
              "\n",
              "          const docLinkHtml = 'Like what you see? Visit the ' +\n",
              "            '<a target=\"_blank\" href=https://colab.research.google.com/notebooks/data_table.ipynb>data table notebook</a>'\n",
              "            + ' to learn more about interactive tables.';\n",
              "          element.innerHTML = '';\n",
              "          dataTable['output_type'] = 'display_data';\n",
              "          await google.colab.output.renderOutput(dataTable, element);\n",
              "          const docLink = document.createElement('div');\n",
              "          docLink.innerHTML = docLinkHtml;\n",
              "          element.appendChild(docLink);\n",
              "        }\n",
              "      </script>\n",
              "    </div>\n",
              "  </div>\n",
              "  "
            ]
          },
          "metadata": {},
          "execution_count": 12
        }
      ]
    },
    {
      "cell_type": "code",
      "source": [
        "#seperate target variable and independent variables from train data and test datasets\n",
        "train_y = train['y_yes']\n",
        "train_x =  train.drop(['y_yes'],axis=1)\n",
        "test_y = test['y_yes']\n",
        "test_x = test.drop(['y_yes'],axis=1)"
      ],
      "metadata": {
        "id": "_O_FbsgktKKd"
      },
      "execution_count": 13,
      "outputs": []
    },
    {
      "cell_type": "code",
      "source": [
        "train_y.head()"
      ],
      "metadata": {
        "colab": {
          "base_uri": "https://localhost:8080/"
        },
        "id": "Z-mFb_BmtM9d",
        "outputId": "6d33d20a-ab2b-4a43-e931-65cbade06b76"
      },
      "execution_count": 14,
      "outputs": [
        {
          "output_type": "execute_result",
          "data": {
            "text/plain": [
              "0    0\n",
              "1    1\n",
              "3    0\n",
              "4    0\n",
              "5    1\n",
              "Name: y_yes, dtype: int64"
            ]
          },
          "metadata": {},
          "execution_count": 14
        }
      ]
    },
    {
      "cell_type": "code",
      "source": [
        "#plot historgram for each column to check how the balance the input data and target variable is\n",
        "import matplotlib.pyplot as plt\n",
        "import seaborn as sns\n",
        "y_train_df = pd.DataFrame(train_y)\n",
        "y_train_df.head()\n",
        "sns.set()\n",
        "#plt.figure()\n",
        "sns.countplot(x='y_yes', data=y_train_df, palette = 'hls')\n",
        "plt.show()"
      ],
      "metadata": {
        "colab": {
          "base_uri": "https://localhost:8080/",
          "height": 285
        },
        "id": "6HbpphNztQ6-",
        "outputId": "16f1a03a-3e08-41c5-daca-d4410c38c14a"
      },
      "execution_count": 15,
      "outputs": [
        {
          "output_type": "display_data",
          "data": {
            "text/plain": [
              "<Figure size 432x288 with 1 Axes>"
            ],
            "image/png": "[encoded data removed]"
          },
          "metadata": {}
        }
      ]
    },
    {
      "cell_type": "code",
      "source": [
        "#as we have imbalance dataset, let us apply SMOTE to generate balance data\n",
        "print('Before OverSampling, the shape of train_X: {}'.format(train_x.shape))\n",
        "print('Before OverSampling, the shape of train_y: {} \\n'.format(train_y.shape))\n",
        "  \n",
        "print(\"Before OverSampling, counts of label '1': {}\".format(sum(train_y == 1)))\n",
        "print(\"Before OverSampling, counts of label '0': {}\".format(sum(train_y == 0)))\n",
        "\n",
        "from imblearn.over_sampling import SMOTE\n",
        "sm = SMOTE(random_state = 2)\n",
        "train_x_res, train_y_res = sm.fit_resample(train_x, train_y.ravel())\n",
        "\n",
        "print('After OverSampling, the shape of train_X: {}'.format(train_x.shape))\n",
        "print('After OverSampling, the shape of train_y: {} \\n'.format(train_y.shape))\n",
        "  \n",
        "print(\"After OverSampling, counts of label '1': {}\".format(sum(train_y_res == 1)))\n",
        "print(\"After OverSampling, counts of label '0': {}\".format(sum(train_y_res == 0)))"
      ],
      "metadata": {
        "colab": {
          "base_uri": "https://localhost:8080/"
        },
        "id": "_MU1j1NbtX-O",
        "outputId": "79c09b91-b30e-4786-87e0-3fef2832f14b"
      },
      "execution_count": 16,
      "outputs": [
        {
          "output_type": "stream",
          "name": "stdout",
          "text": [
            "Before OverSampling, the shape of train_X: (19444, 37)\n",
            "Before OverSampling, the shape of train_y: (19444,) \n",
            "\n",
            "Before OverSampling, counts of label '1': 2443\n",
            "Before OverSampling, counts of label '0': 17001\n",
            "After OverSampling, the shape of train_X: (19444, 37)\n",
            "After OverSampling, the shape of train_y: (19444,) \n",
            "\n",
            "After OverSampling, counts of label '1': 17001\n",
            "After OverSampling, counts of label '0': 17001\n"
          ]
        }
      ]
    },
    {
      "cell_type": "markdown",
      "source": [
        "After applying SMOTE data looks more balanced as eblow: \n"
      ],
      "metadata": {
        "id": "Rw1w5wR0tr2u"
      }
    },
    {
      "cell_type": "code",
      "source": [
        "#plot historgram for each column to check how the balance the input data and target variable is\n",
        "import matplotlib.pyplot as plt\n",
        "import seaborn as sns\n",
        "y_train_df = pd.DataFrame(data=train_y_res,columns=['y'])\n",
        "y_train_df.head()\n",
        "sns.set()\n",
        "#plt.figure()\n",
        "sns.countplot(x='y', data=y_train_df, palette = 'hls')\n",
        "plt.show()"
      ],
      "metadata": {
        "colab": {
          "base_uri": "https://localhost:8080/",
          "height": 285
        },
        "id": "wCQgTZMZtxCF",
        "outputId": "c445937f-6b29-46f9-a2f6-a22c179e3d2e"
      },
      "execution_count": 17,
      "outputs": [
        {
          "output_type": "display_data",
          "data": {
            "text/plain": [
              "<Figure size 432x288 with 1 Axes>"
            ],
            "image/png": "[encoded data removed]"
          },
          "metadata": {}
        }
      ]
    },
    {
      "cell_type": "markdown",
      "source": [
        "Now let us apply the logistic regression model on the data."
      ],
      "metadata": {
        "id": "IPwwsjAhv6NO"
      }
    },
    {
      "cell_type": "code",
      "source": [
        "logreg = LogisticRegression()\n",
        "model = logreg.fit(train_x_res, train_y_res)\n"
      ],
      "metadata": {
        "colab": {
          "base_uri": "https://localhost:8080/"
        },
        "id": "fMB2LdAyv5em",
        "outputId": "ab32416d-85e5-4a06-e405-b38f3029dfc5"
      },
      "execution_count": 18,
      "outputs": [
        {
          "output_type": "stream",
          "name": "stderr",
          "text": [
            "/usr/local/lib/python3.7/dist-packages/sklearn/linear_model/_logistic.py:818: ConvergenceWarning: lbfgs failed to converge (status=1):\n",
            "STOP: TOTAL NO. of ITERATIONS REACHED LIMIT.\n",
            "\n",
            "Increase the number of iterations (max_iter) or scale the data as shown in:\n",
            "    https://scikit-learn.org/stable/modules/preprocessing.html\n",
            "Please also refer to the documentation for alternative solver options:\n",
            "    https://scikit-learn.org/stable/modules/linear_model.html#logistic-regression\n",
            "  extra_warning_msg=_LOGISTIC_SOLVER_CONVERGENCE_MSG,\n"
          ]
        }
      ]
    },
    {
      "cell_type": "code",
      "source": [
        "pick_insert = open('drive/MyDrive/DataScienseStudyNotes/logistic_regression_model.pickle','wb')\n",
        "pickle.dump(model,  pick_insert)\n",
        "pick_insert.close()"
      ],
      "metadata": {
        "id": "PzOgrZ5veVOa"
      },
      "execution_count": 19,
      "outputs": []
    },
    {
      "cell_type": "code",
      "source": [
        "y_pred = logreg.predict(test_x )\n",
        "print('Accuracy of logistic regression classifier on test set: {:.2f}'.format(logreg.score(test_x , test_y)))"
      ],
      "metadata": {
        "colab": {
          "base_uri": "https://localhost:8080/"
        },
        "id": "t-yvlMfW0CJY",
        "outputId": "a2545cdb-3b0f-4b1d-b65c-47a66ff3917e"
      },
      "execution_count": 20,
      "outputs": [
        {
          "output_type": "stream",
          "name": "stdout",
          "text": [
            "Accuracy of logistic regression classifier on test set: 0.87\n"
          ]
        }
      ]
    },
    {
      "cell_type": "code",
      "source": [
        "confusion_matrix = confusion_matrix(test_y, y_pred)\n",
        "print(confusion_matrix)\n",
        "print(classification_report(test_y, y_pred))"
      ],
      "metadata": {
        "colab": {
          "base_uri": "https://localhost:8080/"
        },
        "id": "gG1Kx0X61nfh",
        "outputId": "67696dee-02e7-4274-ba74-f5b4d062fa4d"
      },
      "execution_count": 21,
      "outputs": [
        {
          "output_type": "stream",
          "name": "stdout",
          "text": [
            "[[3874  362]\n",
            " [ 253  372]]\n",
            "              precision    recall  f1-score   support\n",
            "\n",
            "           0       0.94      0.91      0.93      4236\n",
            "           1       0.51      0.60      0.55       625\n",
            "\n",
            "    accuracy                           0.87      4861\n",
            "   macro avg       0.72      0.75      0.74      4861\n",
            "weighted avg       0.88      0.87      0.88      4861\n",
            "\n"
          ]
        }
      ]
    },
    {
      "cell_type": "code",
      "source": [
        "logit_roc_auc = roc_auc_score(test_y, logreg.predict(test_x))\n",
        "fpr, tpr, thresholds = roc_curve(test_y, logreg.predict_proba(test_x)[:,1])\n",
        "plt.figure()\n",
        "plt.plot(fpr, tpr, label='Logistic Regression (area = %0.2f)' % logit_roc_auc)\n",
        "plt.plot([0, 1], [0, 1],'r--')\n",
        "plt.xlim([0.0, 1.0])\n",
        "plt.ylim([0.0, 1.05])\n",
        "plt.xlabel('False Positive Rate')\n",
        "plt.ylabel('True Positive Rate')\n",
        "plt.title('Receiver operating characteristic')\n",
        "plt.legend(loc=\"lower right\")\n",
        "plt.savefig('Log_ROC')\n",
        "plt.show()"
      ],
      "metadata": {
        "colab": {
          "base_uri": "https://localhost:8080/",
          "height": 301
        },
        "id": "zZdR8mV06lB4",
        "outputId": "adf0c8ab-88dc-4187-a3f1-01de056e878f"
      },
      "execution_count": 22,
      "outputs": [
        {
          "output_type": "display_data",
          "data": {
            "text/plain": [
              "<Figure size 432x288 with 1 Axes>"
            ],
            "image/png": "[encoded data removed]"
          },
          "metadata": {}
        }
      ]
    },
    {
      "cell_type": "code",
      "source": [
        "roc_auc = auc(fpr, tpr)\n",
        "print(\"Area under the ROC curve : %f\" % roc_auc)"
      ],
      "metadata": {
        "colab": {
          "base_uri": "https://localhost:8080/"
        },
        "id": "uImy_NAe6yd2",
        "outputId": "f1046904-dd8d-4b94-df12-89bf499e3781"
      },
      "execution_count": 23,
      "outputs": [
        {
          "output_type": "stream",
          "name": "stdout",
          "text": [
            "Area under the ROC curve : 0.873754\n"
          ]
        }
      ]
    }
  ]
}